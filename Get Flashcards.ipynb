{
 "cells": [
  {
   "cell_type": "markdown",
   "metadata": {
    "collapsed": true
   },
   "source": [
    "# Get Flashcards\n"
   ]
  },
  {
   "cell_type": "code",
   "execution_count": 86,
   "metadata": {
    "collapsed": true
   },
   "outputs": [],
   "source": [
    "import tweepy \n",
    "import wget\n",
    "import os"
   ]
  },
  {
   "cell_type": "code",
   "execution_count": 71,
   "metadata": {
    "collapsed": true
   },
   "outputs": [],
   "source": [
    "auth = tweepy.OAuthHandler(consumer_key, consumer_secret) #Fill these in\n",
    "auth.set_access_token(access_token, access_token_secret)  #Fill these in\n",
    "\n",
    "api = tweepy.API(auth)\n",
    "\n",
    "#Get 200 of Chris' tweet\n",
    "tweets = api.user_timeline(screen_name = 'chrisalbon', \n",
    "                           count = 200, \n",
    "                           include_rts = False, \n",
    "                           excludereplies = True)\n",
    "\n",
    "#200 isn't enough.  Keep getting tweets until we can't get anymore\n",
    "\n",
    "last_id = tweets[-1].id\n",
    " \n",
    "while (True):\n",
    "    more_tweets = api.user_timeline(screen_name='chrisalbon',\n",
    "                                count=200,\n",
    "                                include_rts=False,\n",
    "                                exclude_replies=True,\n",
    "                                max_id=last_id-1)\n",
    "                                    \n",
    "    # There are no more tweets\n",
    "    if (len(more_tweets) == 0):\n",
    "          break\n",
    "    else:\n",
    "          last_id = more_tweets[-1].id-1\n",
    "          tweets = tweets + more_tweets\n",
    "        \n",
    "        \n",
    "#Filter by those containing #machinelearningflashcards \n",
    "card_tweets = [j for j in tweets if '#machinelearningflashcards' in j.text]"
   ]
  },
  {
   "cell_type": "code",
   "execution_count": 83,
   "metadata": {
    "collapsed": true
   },
   "outputs": [],
   "source": [
    "\n",
    "media_files = set()\n",
    "for status in card_tweets:\n",
    "    media = status.entities.get('media', [])\n",
    "    if(len(media) > 0 and media[0]['type']=='photo' ): #if tweet has media and media is photo\n",
    "        media_files.add(media[0]['media_url']) #get me the url"
   ]
  },
  {
   "cell_type": "code",
   "execution_count": 84,
   "metadata": {
    "collapsed": true
   },
   "outputs": [],
   "source": [
    "os.makedirs('ML Cards') #make a directory to store the photos in\n",
    "\n",
    "for media_file in media_files:\n",
    "    wget.download(media_file, out = 'ML Cards') #get the photos!"
   ]
  },
  {
   "cell_type": "code",
   "execution_count": null,
   "metadata": {
    "collapsed": true
   },
   "outputs": [],
   "source": []
  }
 ],
 "metadata": {
  "kernelspec": {
   "display_name": "Python 3",
   "language": "python",
   "name": "python3"
  },
  "language_info": {
   "codemirror_mode": {
    "name": "ipython",
    "version": 3
   },
   "file_extension": ".py",
   "mimetype": "text/x-python",
   "name": "python",
   "nbconvert_exporter": "python",
   "pygments_lexer": "ipython3",
   "version": "3.6.1"
  }
 },
 "nbformat": 4,
 "nbformat_minor": 2
}
